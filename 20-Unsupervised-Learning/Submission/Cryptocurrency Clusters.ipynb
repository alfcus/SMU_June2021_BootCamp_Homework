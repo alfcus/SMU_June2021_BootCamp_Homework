{
 "cells": [
  {
   "cell_type": "code",
   "execution_count": null,
   "id": "842611a0-0710-4c48-bfe1-d50b84063895",
   "metadata": {},
   "outputs": [],
   "source": [
    "import pandas as pd\n",
    "import numpy as np\n",
    "import matplotlib.pyplot as plt"
   ]
  },
  {
   "cell_type": "code",
   "execution_count": null,
   "id": "f1a7a288-767c-4c84-8cf4-6be77cb408a7",
   "metadata": {},
   "outputs": [],
   "source": [
    "# Reading CSV into dataframe\n",
    "df = pd.read_csv(\"crypto_data.csv\")"
   ]
  },
  {
   "cell_type": "markdown",
   "id": "8de19312-5b86-442b-b200-dd3b6616aec1",
   "metadata": {},
   "source": [
    "# EDA"
   ]
  },
  {
   "cell_type": "code",
   "execution_count": null,
   "id": "09fe9852-2ddf-409d-8056-b56ddb551901",
   "metadata": {},
   "outputs": [],
   "source": [
    "df.head()"
   ]
  },
  {
   "cell_type": "markdown",
   "id": "675cff18-3b36-42e7-bdd5-3bb6e764f836",
   "metadata": {},
   "source": [
    "Null values exist"
   ]
  },
  {
   "cell_type": "code",
   "execution_count": null,
   "id": "5ea11693-9844-4853-a255-ec0bd309fc42",
   "metadata": {},
   "outputs": [],
   "source": [
    "df.info()"
   ]
  },
  {
   "cell_type": "code",
   "execution_count": null,
   "id": "a6b314f7-9ba7-440e-ad28-58efadb99fdb",
   "metadata": {},
   "outputs": [],
   "source": [
    "# Observing cryptos not being traded\n",
    "df.IsTrading.value_counts()"
   ]
  },
  {
   "cell_type": "code",
   "execution_count": null,
   "id": "80b0f76c-383b-4b58-8d91-501876082870",
   "metadata": {},
   "outputs": [],
   "source": [
    "# Observing 'Algorithm' column for any similarly named values that can be combined (part 1)\n",
    "df.Algorithm.value_counts()"
   ]
  },
  {
   "cell_type": "code",
   "execution_count": null,
   "id": "bbe3cbeb-36d9-4b03-b695-ac919f9f275b",
   "metadata": {},
   "outputs": [],
   "source": [
    "# Observing 'Algorithm' column for any similarly named values that can be combined (part 2 - full list)\n",
    "df.Algorithm.value_counts().index"
   ]
  },
  {
   "cell_type": "code",
   "execution_count": null,
   "id": "0d3c7516-ac48-4b7a-bb3c-805ab9912313",
   "metadata": {},
   "outputs": [],
   "source": [
    "# Observing 'ProofType' column for any similarly named values that can be combined\n",
    "df.ProofType.value_counts()"
   ]
  },
  {
   "cell_type": "markdown",
   "id": "78ab3da5-1603-404a-84b5-c7a903459e73",
   "metadata": {},
   "source": [
    "Several values in the 'ProofType' column can be combined and will be cleaned up later in the data preparation step"
   ]
  },
  {
   "cell_type": "code",
   "execution_count": null,
   "id": "b7267e1a-58c2-4da2-a6f6-3bbaa21f5a91",
   "metadata": {},
   "outputs": [],
   "source": [
    "# Observing columns with numerical values\n",
    "df.describe()"
   ]
  },
  {
   "cell_type": "markdown",
   "id": "46606f83-b45d-4484-99a6-bd5aea739a36",
   "metadata": {},
   "source": [
    "Column 'TotalCoinSupply' does not appear in the description summary since its data type = object; needs to be converted in the data preparation step"
   ]
  },
  {
   "cell_type": "markdown",
   "id": "86188e51-6161-4786-bb09-1524c53c25fa",
   "metadata": {},
   "source": [
    "# Data Preparation"
   ]
  },
  {
   "cell_type": "code",
   "execution_count": null,
   "id": "2f0099d4-bea3-4ac5-8dd0-a0e2d6a191f4",
   "metadata": {},
   "outputs": [],
   "source": [
    "# Discarding all cryptocurrencies not being traded\n",
    "df_prep = df.copy()\n",
    "df_prep = df_prep.loc[df_prep.IsTrading == True].reset_index(drop=True)\n",
    "df_prep.info()"
   ]
  },
  {
   "cell_type": "code",
   "execution_count": null,
   "id": "c069b680-f617-4896-b52c-1cdcb1fb888b",
   "metadata": {},
   "outputs": [],
   "source": [
    "# Dropping 'IsTrading' column after applying filter\n",
    "df_prep.drop([\"IsTrading\"], axis=1, inplace=True)\n",
    "df_prep.head()"
   ]
  },
  {
   "cell_type": "code",
   "execution_count": null,
   "id": "48c354c3-6cda-43ff-878c-78d6ff48380a",
   "metadata": {},
   "outputs": [],
   "source": [
    "# Removing all rows that have at least one null value\n",
    "df_prep = df_prep.dropna(how=\"any\").reset_index(drop=True)\n",
    "df_prep.info()"
   ]
  },
  {
   "cell_type": "code",
   "execution_count": null,
   "id": "42b04e99-a735-4760-bc79-0a12bfaabd69",
   "metadata": {},
   "outputs": [],
   "source": [
    "# Filtering for cryptocurrencies that have been mined\n",
    "df_prep = df_prep.loc[df_prep.TotalCoinsMined > 0].reset_index(drop=True)\n",
    "df_prep.info()"
   ]
  },
  {
   "cell_type": "code",
   "execution_count": null,
   "id": "937fea29-24cb-4437-9a9f-afcd202e1876",
   "metadata": {},
   "outputs": [],
   "source": [
    "# Converting 'TotalCoinSupply' column to numeric\n",
    "df_prep[\"TotalCoinSupply\"] = pd.to_numeric(df_prep.TotalCoinSupply)\n",
    "df_prep.info()"
   ]
  },
  {
   "cell_type": "markdown",
   "id": "fe907f56-3c49-4957-b092-f5cd04cd36b3",
   "metadata": {},
   "source": [
    "'TotalCoinSupply' column is now a float data type"
   ]
  },
  {
   "cell_type": "code",
   "execution_count": null,
   "id": "9ae1ac94-71a8-41c0-a19c-df9fbe190cd9",
   "metadata": {},
   "outputs": [],
   "source": [
    "# Reexaming 'ProofType' list after column drops\n",
    "df_prep.ProofType.value_counts().index"
   ]
  },
  {
   "cell_type": "code",
   "execution_count": null,
   "id": "14a1cf99-1dbb-4664-870c-28ee49ca628c",
   "metadata": {},
   "outputs": [],
   "source": [
    "# Correcting column values for proper counts\n",
    "df_prep.loc[df_prep.ProofType == \"PoW/PoS \", \"ProofType\"] = \"PoW/PoS\"\n",
    "df_prep.loc[df_prep.ProofType == \"Pos\", \"ProofType\"] = \"PoS\"\n",
    "df_prep.loc[df_prep.ProofType == \"Proof of Authority\", \"ProofType\"] = \"PoA\"\n",
    "df_prep.loc[df_prep.ProofType == \"PoW and PoS\", \"ProofType\"] = \"PoW/PoS\"\n",
    "df_prep.loc[df_prep.ProofType == \"Proof of Trust\", \"ProofType\"] = \"PoT\""
   ]
  },
  {
   "cell_type": "code",
   "execution_count": null,
   "id": "047e958e-628f-4133-8c89-85fbe91cdf6a",
   "metadata": {},
   "outputs": [],
   "source": [
    "# Dropping non-contributing columns\n",
    "df_coin = df_prep.CoinName\n",
    "df_prep.drop([\"Unnamed: 0\", \"CoinName\"], axis=1, inplace=True)\n",
    "df_prep.head()"
   ]
  },
  {
   "cell_type": "code",
   "execution_count": null,
   "id": "7c68b779-1b2c-4894-8f8a-41c2fbf57581",
   "metadata": {},
   "outputs": [],
   "source": [
    "# Converting 'Algorithm' and 'ProofType' into numerical data\n",
    "df_prep = pd.get_dummies(df_prep)\n",
    "df_prep.head()"
   ]
  },
  {
   "cell_type": "code",
   "execution_count": null,
   "id": "924fb211-c933-45d7-a995-39732a4e64f8",
   "metadata": {},
   "outputs": [],
   "source": [
    "# Standardizing 'TotalCoinsMined' and 'TotalCoinSupply' columns due to their large values\n",
    "from sklearn.preprocessing import StandardScaler\n",
    "scaler = StandardScaler()\n",
    "scaler = scaler.fit(df_prep.loc[:, [\"TotalCoinsMined\", \"TotalCoinSupply\"]])\n",
    "\n",
    "df_prep_scale = df_prep.copy()\n",
    "df_prep_scale.loc[:, [\"TotalCoinsMined\", \"TotalCoinSupply\"]] = scaler.transform(df_prep.loc[:, [\"TotalCoinsMined\", \"TotalCoinSupply\"]])\n",
    "df_prep_scale.head()"
   ]
  },
  {
   "cell_type": "code",
   "execution_count": null,
   "id": "00ad2a11-4b21-42e3-b1e0-917056deafe5",
   "metadata": {},
   "outputs": [],
   "source": []
  },
  {
   "cell_type": "markdown",
   "id": "ac738874-0811-4f1d-b73b-1673bcc2c570",
   "metadata": {},
   "source": [
    "# Dimensionality Reduction"
   ]
  },
  {
   "cell_type": "code",
   "execution_count": null,
   "id": "72fc717f-ae0b-4bd8-a34b-18ad2e16fb49",
   "metadata": {},
   "outputs": [],
   "source": [
    "# Gathering PCA explained variance\n",
    "from sklearn.decomposition import PCA\n",
    "pca = PCA()\n",
    "pca.fit(df_prep_scale)\n",
    "print(np.sum(pca.explained_variance_ratio_))\n",
    "print(pca.explained_variance_ratio_)"
   ]
  },
  {
   "cell_type": "code",
   "execution_count": null,
   "id": "e9b1e395-2f3b-48d5-b4bf-15ef40350cc0",
   "metadata": {},
   "outputs": [],
   "source": [
    "# Overview of PCA explained variance\n",
    "plt.plot(range(len(pca.explained_variance_ratio_)), pca.explained_variance_ratio_)\n",
    "plt.show()"
   ]
  },
  {
   "cell_type": "code",
   "execution_count": null,
   "id": "b5e76992-d2ba-4725-a0e3-2266a0924e20",
   "metadata": {},
   "outputs": [],
   "source": [
    "# Visualizing the first 10 PCA components\n",
    "plt.plot(range(10), pca.explained_variance_ratio_[0:10])\n",
    "plt.show()"
   ]
  },
  {
   "cell_type": "code",
   "execution_count": null,
   "id": "54e2c43d-93bc-44f4-b248-8655cd283dd7",
   "metadata": {},
   "outputs": [],
   "source": [
    "# Discovering that 11 components are needed to preserve 90% of the explained variance\n",
    "pca = PCA(n_components=0.90)\n",
    "pca.fit(df_prep_scale)\n",
    "print(np.sum(pca.explained_variance_ratio_))\n",
    "print(pca.explained_variance_ratio_)\n",
    "print(len(pca.explained_variance_ratio_))"
   ]
  },
  {
   "cell_type": "code",
   "execution_count": null,
   "id": "e0bc0c64-befc-4ad6-97b9-694f261be654",
   "metadata": {},
   "outputs": [],
   "source": [
    "# Creating dataframe having 11 PCA components to preserve 90% of the explained variance\n",
    "df_prep_scale_pca = pca.transform(df_prep_scale)\n",
    "df_prep_scale_pca = pd.DataFrame(df_prep_scale_pca, columns = [\"PCA\"+ str(x) for x in range(1, len(pca.explained_variance_ratio_) + 1)])\n",
    "df_prep_scale_pca.head()"
   ]
  },
  {
   "cell_type": "code",
   "execution_count": null,
   "id": "49a13d9e-b4c5-415d-bae7-a6525574dd40",
   "metadata": {},
   "outputs": [],
   "source": [
    "# Creating TSNE model\n",
    "from sklearn.manifold import TSNE\n",
    "tsne = TSNE(learning_rate=35)\n",
    "tsne_features = tsne.fit_transform(df_prep_scale_pca)\n",
    "tsne_features.shape"
   ]
  },
  {
   "cell_type": "code",
   "execution_count": null,
   "id": "d890bcfc-40ce-4434-85b2-072506d23063",
   "metadata": {},
   "outputs": [],
   "source": [
    "# Visualize the clusters\n",
    "plt.scatter(tsne_features[:,0], tsne_features[:,1])\n",
    "plt.show()"
   ]
  },
  {
   "cell_type": "markdown",
   "id": "b21d22cd-edcf-4af2-9465-0e1d59cd848b",
   "metadata": {},
   "source": [
    "# Cluster Analysis with k-Means"
   ]
  },
  {
   "cell_type": "code",
   "execution_count": null,
   "id": "f3c4e220-1de9-43ce-b38c-2de5ab0233db",
   "metadata": {},
   "outputs": [],
   "source": [
    "from sklearn.cluster import KMeans"
   ]
  },
  {
   "cell_type": "code",
   "execution_count": null,
   "id": "2365d5ba-2d77-40fa-afc5-d2a9e64558c2",
   "metadata": {},
   "outputs": [],
   "source": [
    "# Finding the best value for k\n",
    "inertia = []\n",
    "k = list(range(1, 11))\n",
    "\n",
    "# Calculate the inertia for the range of k values\n",
    "for i in k:\n",
    "    km = KMeans(n_clusters=i, random_state=0)\n",
    "    km.fit(df_prep_scale_pca)\n",
    "    inertia.append(km.inertia_)\n",
    "\n",
    "# Creating the Elbow Curve\n",
    "elbow_data = {\"k\": k, \"inertia\": inertia}\n",
    "df_elbow = pd.DataFrame(elbow_data)\n",
    "\n",
    "plt.plot(df_elbow['k'], df_elbow['inertia'])\n",
    "plt.xticks(list(range(1, 11)))\n",
    "plt.title('Elbow Curve')\n",
    "plt.xlabel('Number of clusters')\n",
    "plt.ylabel('Inertia')\n",
    "plt.show()"
   ]
  },
  {
   "cell_type": "markdown",
   "id": "6e39232c-2bec-461e-8a61-b9eeaf454ea1",
   "metadata": {},
   "source": [
    "Elbow is at k=8"
   ]
  },
  {
   "cell_type": "code",
   "execution_count": null,
   "id": "7bbd6a5a-7bc5-4b2f-b071-77945bf8c00e",
   "metadata": {},
   "outputs": [],
   "source": [
    "# Predicting clusters with k=8\n",
    "\n",
    "# Initialize the k-means model\n",
    "model = KMeans(n_clusters=8, random_state=0)\n",
    "\n",
    "# Fit the model\n",
    "model.fit(df_prep_scale_pca)\n",
    "\n",
    "# Predict clusters\n",
    "predictions = model.predict(df_prep_scale_pca)\n",
    "\n",
    "# Add the predicted class column to the dataframe\n",
    "df_prep_scale_pca[\"class\"] = model.labels_\n",
    "df_prep_scale_pca.head()"
   ]
  },
  {
   "cell_type": "code",
   "execution_count": null,
   "id": "9d312387-bdde-4872-8420-df6b39f259d4",
   "metadata": {},
   "outputs": [],
   "source": [
    "# Visualize the clusters\n",
    "plt.scatter(tsne_features[:,0], tsne_features[:,1], c=df_prep_scale_pca[\"class\"])\n",
    "plt.show()"
   ]
  },
  {
   "cell_type": "code",
   "execution_count": null,
   "id": "647a5311-073b-4eb7-a02e-e6955e982fba",
   "metadata": {},
   "outputs": [],
   "source": [
    "# Count of class sets\n",
    "df_prep_scale_pca[\"class\"].value_counts()"
   ]
  },
  {
   "cell_type": "markdown",
   "id": "1880173b-c5f9-4f3b-8004-2e9f9a250d5e",
   "metadata": {},
   "source": [
    "# Analysis and Conclusion"
   ]
  },
  {
   "cell_type": "code",
   "execution_count": null,
   "id": "e5607d61-b79f-4a08-81a1-61e8cedfe0ac",
   "metadata": {},
   "outputs": [],
   "source": [
    "df_merged = df_prep.merge(df_prep_scale_pca, how='outer', left_index=True, right_index=True)"
   ]
  },
  {
   "cell_type": "code",
   "execution_count": null,
   "id": "191490fd-fc03-4a2a-b428-1d633e91ffff",
   "metadata": {},
   "outputs": [],
   "source": [
    "df_review = df_merged[['TotalCoinsMined', 'TotalCoinSupply', 'class']]\n",
    "df_final = df_review.merge(df_coin, how='outer', left_index=True, right_index=True)\n",
    "df_final.head()"
   ]
  },
  {
   "cell_type": "code",
   "execution_count": null,
   "id": "d7f4a217-4817-4172-be1d-e28ffee73d29",
   "metadata": {},
   "outputs": [],
   "source": [
    "# Reviewing cryptos\n",
    "bitcoin_class = df_final.loc[df_final['CoinName'] == 'Bitcoin', 'class'].item()\n",
    "bitcoin_class"
   ]
  },
  {
   "cell_type": "code",
   "execution_count": null,
   "id": "6f47fc75-24b1-4fb7-b17c-b079d985eb01",
   "metadata": {},
   "outputs": [],
   "source": [
    "df_final.loc[df_final['class'] == bitcoin_class]"
   ]
  },
  {
   "cell_type": "markdown",
   "id": "13e61b1a-b725-4f0e-b65a-578f407e0f84",
   "metadata": {},
   "source": [
    "Based on recent cryptocurrency activity, Bitcoin and Ethereum are reaching all-time highs. An important thing to note is that their class belongs to the highest cluster count. K-means clustering provides us with a list of other cryptos associated in the same class and are worth investigating possible trends. This is not financial advice"
   ]
  }
 ],
 "metadata": {
  "kernelspec": {
   "display_name": "Python 3",
   "language": "python",
   "name": "python3"
  },
  "language_info": {
   "codemirror_mode": {
    "name": "ipython",
    "version": 3
   },
   "file_extension": ".py",
   "mimetype": "text/x-python",
   "name": "python",
   "nbconvert_exporter": "python",
   "pygments_lexer": "ipython3",
   "version": "3.8.8"
  }
 },
 "nbformat": 4,
 "nbformat_minor": 5
}
