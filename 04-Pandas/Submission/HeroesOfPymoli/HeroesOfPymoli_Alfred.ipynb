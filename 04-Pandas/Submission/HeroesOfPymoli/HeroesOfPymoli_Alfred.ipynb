{
 "cells": [
  {
   "cell_type": "markdown",
   "metadata": {},
   "source": [
    "### Note\n",
    "* Instructions have been included for each segment. You do not have to follow them exactly, but they are included to help you think through the steps."
   ]
  },
  {
   "cell_type": "code",
   "execution_count": 1,
   "metadata": {},
   "outputs": [],
   "source": [
    "# Dependencies and Setup\n",
    "import pandas as pd\n",
    "\n",
    "# File to Load (Remember to Change These)\n",
    "file_to_load = \"Resources/purchase_data.csv\"\n",
    "\n",
    "# Read Purchasing File and store into Pandas data frame\n",
    "purchase_data = pd.read_csv(file_to_load)"
   ]
  },
  {
   "cell_type": "code",
   "execution_count": 2,
   "metadata": {},
   "outputs": [],
   "source": [
    "count = {\"Total Players\": [len(purchase_data[\"SN\"].unique().tolist())]}"
   ]
  },
  {
   "cell_type": "code",
   "execution_count": 3,
   "metadata": {},
   "outputs": [],
   "source": [
    "tot_players = pd.DataFrame(data=count)"
   ]
  },
  {
   "cell_type": "markdown",
   "metadata": {},
   "source": [
    "## Player Count"
   ]
  },
  {
   "cell_type": "markdown",
   "metadata": {},
   "source": [
    "* Display the total number of players\n"
   ]
  },
  {
   "cell_type": "code",
   "execution_count": 4,
   "metadata": {},
   "outputs": [
    {
     "data": {
      "text/html": [
       "<div>\n",
       "<style scoped>\n",
       "    .dataframe tbody tr th:only-of-type {\n",
       "        vertical-align: middle;\n",
       "    }\n",
       "\n",
       "    .dataframe tbody tr th {\n",
       "        vertical-align: top;\n",
       "    }\n",
       "\n",
       "    .dataframe thead th {\n",
       "        text-align: right;\n",
       "    }\n",
       "</style>\n",
       "<table border=\"1\" class=\"dataframe\">\n",
       "  <thead>\n",
       "    <tr style=\"text-align: right;\">\n",
       "      <th></th>\n",
       "      <th>Total Players</th>\n",
       "    </tr>\n",
       "  </thead>\n",
       "  <tbody>\n",
       "    <tr>\n",
       "      <th>0</th>\n",
       "      <td>576</td>\n",
       "    </tr>\n",
       "  </tbody>\n",
       "</table>\n",
       "</div>"
      ],
      "text/plain": [
       "   Total Players\n",
       "0            576"
      ]
     },
     "execution_count": 4,
     "metadata": {},
     "output_type": "execute_result"
    }
   ],
   "source": [
    "tot_players"
   ]
  },
  {
   "cell_type": "code",
   "execution_count": 5,
   "metadata": {},
   "outputs": [],
   "source": [
    "summary = {\"Number of Unique Items\": [len(purchase_data[\"Item Name\"].unique().tolist())],\n",
    "          \"Average Price\": [round(purchase_data[\"Price\"].mean(), 2)],\n",
    "          \"Number of Purchases\": [len(purchase_data)],\n",
    "          \"Total Revenue\": [round(sum(purchase_data[\"Price\"]), 2)]}\n",
    "format_summary = {\"Average Price\":'${:,.2f}', \"Total Revenue\": '${:,.2f}'}"
   ]
  },
  {
   "cell_type": "markdown",
   "metadata": {},
   "source": [
    "## Purchasing Analysis (Total)"
   ]
  },
  {
   "cell_type": "markdown",
   "metadata": {},
   "source": [
    "* Run basic calculations to obtain number of unique items, average price, etc.\n",
    "\n",
    "\n",
    "* Create a summary data frame to hold the results\n",
    "\n",
    "\n",
    "* Optional: give the displayed data cleaner formatting\n",
    "\n",
    "\n",
    "* Display the summary data frame\n"
   ]
  },
  {
   "cell_type": "code",
   "execution_count": 6,
   "metadata": {
    "scrolled": true
   },
   "outputs": [
    {
     "data": {
      "text/html": [
       "<style  type=\"text/css\" >\n",
       "</style><table id=\"T_31f3f_\" ><thead>    <tr>        <th class=\"blank level0\" ></th>        <th class=\"col_heading level0 col0\" >Number of Unique Items</th>        <th class=\"col_heading level0 col1\" >Average Price</th>        <th class=\"col_heading level0 col2\" >Number of Purchases</th>        <th class=\"col_heading level0 col3\" >Total Revenue</th>    </tr></thead><tbody>\n",
       "                <tr>\n",
       "                        <th id=\"T_31f3f_level0_row0\" class=\"row_heading level0 row0\" >0</th>\n",
       "                        <td id=\"T_31f3f_row0_col0\" class=\"data row0 col0\" >179</td>\n",
       "                        <td id=\"T_31f3f_row0_col1\" class=\"data row0 col1\" >$3.05</td>\n",
       "                        <td id=\"T_31f3f_row0_col2\" class=\"data row0 col2\" >780</td>\n",
       "                        <td id=\"T_31f3f_row0_col3\" class=\"data row0 col3\" >$2,379.77</td>\n",
       "            </tr>\n",
       "    </tbody></table>"
      ],
      "text/plain": [
       "<pandas.io.formats.style.Styler at 0x16d465b25b0>"
      ]
     },
     "execution_count": 6,
     "metadata": {},
     "output_type": "execute_result"
    }
   ],
   "source": [
    "purch_summary = pd.DataFrame(data=summary)\n",
    "purch_summary.style.format(format_summary)"
   ]
  },
  {
   "cell_type": "markdown",
   "metadata": {},
   "source": [
    "## Gender Demographics"
   ]
  },
  {
   "cell_type": "markdown",
   "metadata": {},
   "source": [
    "* Percentage and Count of Male Players\n",
    "\n",
    "\n",
    "* Percentage and Count of Female Players\n",
    "\n",
    "\n",
    "* Percentage and Count of Other / Non-Disclosed\n",
    "\n",
    "\n"
   ]
  },
  {
   "cell_type": "code",
   "execution_count": 7,
   "metadata": {},
   "outputs": [],
   "source": [
    "gender_df = purchase_data[[\"SN\", \"Gender\"]]"
   ]
  },
  {
   "cell_type": "code",
   "execution_count": 8,
   "metadata": {},
   "outputs": [],
   "source": [
    "gender_df2 = gender_df.drop_duplicates()"
   ]
  },
  {
   "cell_type": "code",
   "execution_count": 9,
   "metadata": {},
   "outputs": [],
   "source": [
    "gender_group = gender_df2.groupby([\"Gender\"]).count()"
   ]
  },
  {
   "cell_type": "code",
   "execution_count": 10,
   "metadata": {},
   "outputs": [],
   "source": [
    "gender_summary = pd.DataFrame({\"Total Count\": gender_group[\"SN\"]}, index=[\"Male\", \"Female\", \"Other / Non-Disclosed\"])"
   ]
  },
  {
   "cell_type": "code",
   "execution_count": 11,
   "metadata": {},
   "outputs": [],
   "source": [
    "gender_summary[\"Percentage of Players\"] = gender_summary[\"Total Count\"] / gender_group[\"SN\"].sum()\n",
    "format_gen_summary = {\"Percentage of Players\": '{:,.2%}'}"
   ]
  },
  {
   "cell_type": "code",
   "execution_count": 12,
   "metadata": {},
   "outputs": [
    {
     "data": {
      "text/html": [
       "<style  type=\"text/css\" >\n",
       "</style><table id=\"T_10ee4_\" ><thead>    <tr>        <th class=\"blank level0\" ></th>        <th class=\"col_heading level0 col0\" >Total Count</th>        <th class=\"col_heading level0 col1\" >Percentage of Players</th>    </tr></thead><tbody>\n",
       "                <tr>\n",
       "                        <th id=\"T_10ee4_level0_row0\" class=\"row_heading level0 row0\" >Male</th>\n",
       "                        <td id=\"T_10ee4_row0_col0\" class=\"data row0 col0\" >484</td>\n",
       "                        <td id=\"T_10ee4_row0_col1\" class=\"data row0 col1\" >84.03%</td>\n",
       "            </tr>\n",
       "            <tr>\n",
       "                        <th id=\"T_10ee4_level0_row1\" class=\"row_heading level0 row1\" >Female</th>\n",
       "                        <td id=\"T_10ee4_row1_col0\" class=\"data row1 col0\" >81</td>\n",
       "                        <td id=\"T_10ee4_row1_col1\" class=\"data row1 col1\" >14.06%</td>\n",
       "            </tr>\n",
       "            <tr>\n",
       "                        <th id=\"T_10ee4_level0_row2\" class=\"row_heading level0 row2\" >Other / Non-Disclosed</th>\n",
       "                        <td id=\"T_10ee4_row2_col0\" class=\"data row2 col0\" >11</td>\n",
       "                        <td id=\"T_10ee4_row2_col1\" class=\"data row2 col1\" >1.91%</td>\n",
       "            </tr>\n",
       "    </tbody></table>"
      ],
      "text/plain": [
       "<pandas.io.formats.style.Styler at 0x16d47671f40>"
      ]
     },
     "execution_count": 12,
     "metadata": {},
     "output_type": "execute_result"
    }
   ],
   "source": [
    "gender_summary.style.format(format_gen_summary)"
   ]
  },
  {
   "cell_type": "markdown",
   "metadata": {},
   "source": [
    "\n",
    "## Purchasing Analysis (Gender)"
   ]
  },
  {
   "cell_type": "markdown",
   "metadata": {},
   "source": [
    "* Run basic calculations to obtain purchase count, avg. purchase price, avg. purchase total per person etc. by gender\n",
    "\n",
    "\n",
    "\n",
    "\n",
    "* Create a summary data frame to hold the results\n",
    "\n",
    "\n",
    "* Optional: give the displayed data cleaner formatting\n",
    "\n",
    "\n",
    "* Display the summary data frame"
   ]
  },
  {
   "cell_type": "code",
   "execution_count": 13,
   "metadata": {},
   "outputs": [],
   "source": [
    "gender_df3 = purchase_data[[\"Gender\", \"Price\"]]"
   ]
  },
  {
   "cell_type": "code",
   "execution_count": 14,
   "metadata": {},
   "outputs": [],
   "source": [
    "gender_group2 = gender_df3.groupby([\"Gender\"])\n",
    "gender_purchase_count = gender_group2.count()"
   ]
  },
  {
   "cell_type": "code",
   "execution_count": 15,
   "metadata": {},
   "outputs": [],
   "source": [
    "summary2 = gender_purchase_count.rename(columns={\"Price\":\"Purchase Count\"})"
   ]
  },
  {
   "cell_type": "code",
   "execution_count": 16,
   "metadata": {},
   "outputs": [],
   "source": [
    "gender_avg_price = gender_group2[\"Price\"].mean()"
   ]
  },
  {
   "cell_type": "code",
   "execution_count": 17,
   "metadata": {},
   "outputs": [],
   "source": [
    "summary2[\"Average Purchase Price\"] = gender_avg_price"
   ]
  },
  {
   "cell_type": "code",
   "execution_count": 18,
   "metadata": {},
   "outputs": [],
   "source": [
    "gender_tot_price = gender_group2[\"Price\"].sum()"
   ]
  },
  {
   "cell_type": "code",
   "execution_count": 19,
   "metadata": {},
   "outputs": [],
   "source": [
    "summary2[\"Total Purchase Value\"] = gender_tot_price"
   ]
  },
  {
   "cell_type": "code",
   "execution_count": 20,
   "metadata": {},
   "outputs": [],
   "source": [
    "summary2[\"Avg Total Purchase per Person\"] = gender_tot_price / gender_group[\"SN\"]\n",
    "format_summary2 = {\"Average Purchase Price\":'${:,.2f}', \"Total Purchase Value\": '${:,.2f}', \"Avg Total Purchase per Person\": '${:,.2f}'}"
   ]
  },
  {
   "cell_type": "code",
   "execution_count": 21,
   "metadata": {},
   "outputs": [
    {
     "data": {
      "text/html": [
       "<style  type=\"text/css\" >\n",
       "</style><table id=\"T_efa99_\" ><thead>    <tr>        <th class=\"blank level0\" ></th>        <th class=\"col_heading level0 col0\" >Purchase Count</th>        <th class=\"col_heading level0 col1\" >Average Purchase Price</th>        <th class=\"col_heading level0 col2\" >Total Purchase Value</th>        <th class=\"col_heading level0 col3\" >Avg Total Purchase per Person</th>    </tr>    <tr>        <th class=\"index_name level0\" >Gender</th>        <th class=\"blank\" ></th>        <th class=\"blank\" ></th>        <th class=\"blank\" ></th>        <th class=\"blank\" ></th>    </tr></thead><tbody>\n",
       "                <tr>\n",
       "                        <th id=\"T_efa99_level0_row0\" class=\"row_heading level0 row0\" >Female</th>\n",
       "                        <td id=\"T_efa99_row0_col0\" class=\"data row0 col0\" >113</td>\n",
       "                        <td id=\"T_efa99_row0_col1\" class=\"data row0 col1\" >$3.20</td>\n",
       "                        <td id=\"T_efa99_row0_col2\" class=\"data row0 col2\" >$361.94</td>\n",
       "                        <td id=\"T_efa99_row0_col3\" class=\"data row0 col3\" >$4.47</td>\n",
       "            </tr>\n",
       "            <tr>\n",
       "                        <th id=\"T_efa99_level0_row1\" class=\"row_heading level0 row1\" >Male</th>\n",
       "                        <td id=\"T_efa99_row1_col0\" class=\"data row1 col0\" >652</td>\n",
       "                        <td id=\"T_efa99_row1_col1\" class=\"data row1 col1\" >$3.02</td>\n",
       "                        <td id=\"T_efa99_row1_col2\" class=\"data row1 col2\" >$1,967.64</td>\n",
       "                        <td id=\"T_efa99_row1_col3\" class=\"data row1 col3\" >$4.07</td>\n",
       "            </tr>\n",
       "            <tr>\n",
       "                        <th id=\"T_efa99_level0_row2\" class=\"row_heading level0 row2\" >Other / Non-Disclosed</th>\n",
       "                        <td id=\"T_efa99_row2_col0\" class=\"data row2 col0\" >15</td>\n",
       "                        <td id=\"T_efa99_row2_col1\" class=\"data row2 col1\" >$3.35</td>\n",
       "                        <td id=\"T_efa99_row2_col2\" class=\"data row2 col2\" >$50.19</td>\n",
       "                        <td id=\"T_efa99_row2_col3\" class=\"data row2 col3\" >$4.56</td>\n",
       "            </tr>\n",
       "    </tbody></table>"
      ],
      "text/plain": [
       "<pandas.io.formats.style.Styler at 0x16d476f6580>"
      ]
     },
     "execution_count": 21,
     "metadata": {},
     "output_type": "execute_result"
    }
   ],
   "source": [
    "summary2.style.format(format_summary2)"
   ]
  },
  {
   "cell_type": "markdown",
   "metadata": {},
   "source": [
    "## Age Demographics"
   ]
  },
  {
   "cell_type": "markdown",
   "metadata": {},
   "source": [
    "* Establish bins for ages\n",
    "\n",
    "\n",
    "* Categorize the existing players using the age bins. Hint: use pd.cut()\n",
    "\n",
    "\n",
    "* Calculate the numbers and percentages by age group\n",
    "\n",
    "\n",
    "* Create a summary data frame to hold the results\n",
    "\n",
    "\n",
    "* Optional: round the percentage column to two decimal points\n",
    "\n",
    "\n",
    "* Display Age Demographics Table\n"
   ]
  },
  {
   "cell_type": "code",
   "execution_count": 22,
   "metadata": {},
   "outputs": [],
   "source": [
    "bins = [0, 9.9, 14.9, 19.9, 24.9, 29.9, 34.9, 39.9, 100]\n",
    "group_names = [\"<10\", \"10-14\", \"15-19\", \"20-24\", \"25-29\", \"30-34\", \"35-39\", \"40+\"]"
   ]
  },
  {
   "cell_type": "code",
   "execution_count": 23,
   "metadata": {},
   "outputs": [],
   "source": [
    "player_ages = purchase_data[[\"SN\", \"Age\"]]\n",
    "age_drop = player_ages.drop_duplicates(keep=\"first\")\n",
    "age_drop2 = pd.DataFrame(age_drop)"
   ]
  },
  {
   "cell_type": "code",
   "execution_count": 24,
   "metadata": {},
   "outputs": [],
   "source": [
    "age_drop2[\"Age Group\"] = pd.cut(age_drop2[\"Age\"], bins, labels=group_names, include_lowest=True)"
   ]
  },
  {
   "cell_type": "code",
   "execution_count": 25,
   "metadata": {},
   "outputs": [],
   "source": [
    "age_group = age_drop2.groupby(\"Age Group\").count()"
   ]
  },
  {
   "cell_type": "code",
   "execution_count": 26,
   "metadata": {},
   "outputs": [],
   "source": [
    "age_summary = pd.DataFrame({\"Total Count\": age_group[\"SN\"]},\n",
    "                            index=[\"<10\", \"10-14\", \"15-19\", \"20-24\", \"25-29\", \"30-34\", \"35-39\", \"40+\"])"
   ]
  },
  {
   "cell_type": "code",
   "execution_count": 27,
   "metadata": {},
   "outputs": [],
   "source": [
    "age_summary[\"Percentage of Players\"] = age_summary[\"Total Count\"] / age_group[\"SN\"].sum()\n",
    "format_gen_summary = {\"Percentage of Players\": '{:,.2%}'}"
   ]
  },
  {
   "cell_type": "code",
   "execution_count": 28,
   "metadata": {},
   "outputs": [
    {
     "data": {
      "text/html": [
       "<style  type=\"text/css\" >\n",
       "</style><table id=\"T_dff37_\" ><thead>    <tr>        <th class=\"blank level0\" ></th>        <th class=\"col_heading level0 col0\" >Total Count</th>        <th class=\"col_heading level0 col1\" >Percentage of Players</th>    </tr></thead><tbody>\n",
       "                <tr>\n",
       "                        <th id=\"T_dff37_level0_row0\" class=\"row_heading level0 row0\" ><10</th>\n",
       "                        <td id=\"T_dff37_row0_col0\" class=\"data row0 col0\" >17</td>\n",
       "                        <td id=\"T_dff37_row0_col1\" class=\"data row0 col1\" >2.95%</td>\n",
       "            </tr>\n",
       "            <tr>\n",
       "                        <th id=\"T_dff37_level0_row1\" class=\"row_heading level0 row1\" >10-14</th>\n",
       "                        <td id=\"T_dff37_row1_col0\" class=\"data row1 col0\" >22</td>\n",
       "                        <td id=\"T_dff37_row1_col1\" class=\"data row1 col1\" >3.82%</td>\n",
       "            </tr>\n",
       "            <tr>\n",
       "                        <th id=\"T_dff37_level0_row2\" class=\"row_heading level0 row2\" >15-19</th>\n",
       "                        <td id=\"T_dff37_row2_col0\" class=\"data row2 col0\" >107</td>\n",
       "                        <td id=\"T_dff37_row2_col1\" class=\"data row2 col1\" >18.58%</td>\n",
       "            </tr>\n",
       "            <tr>\n",
       "                        <th id=\"T_dff37_level0_row3\" class=\"row_heading level0 row3\" >20-24</th>\n",
       "                        <td id=\"T_dff37_row3_col0\" class=\"data row3 col0\" >258</td>\n",
       "                        <td id=\"T_dff37_row3_col1\" class=\"data row3 col1\" >44.79%</td>\n",
       "            </tr>\n",
       "            <tr>\n",
       "                        <th id=\"T_dff37_level0_row4\" class=\"row_heading level0 row4\" >25-29</th>\n",
       "                        <td id=\"T_dff37_row4_col0\" class=\"data row4 col0\" >77</td>\n",
       "                        <td id=\"T_dff37_row4_col1\" class=\"data row4 col1\" >13.37%</td>\n",
       "            </tr>\n",
       "            <tr>\n",
       "                        <th id=\"T_dff37_level0_row5\" class=\"row_heading level0 row5\" >30-34</th>\n",
       "                        <td id=\"T_dff37_row5_col0\" class=\"data row5 col0\" >52</td>\n",
       "                        <td id=\"T_dff37_row5_col1\" class=\"data row5 col1\" >9.03%</td>\n",
       "            </tr>\n",
       "            <tr>\n",
       "                        <th id=\"T_dff37_level0_row6\" class=\"row_heading level0 row6\" >35-39</th>\n",
       "                        <td id=\"T_dff37_row6_col0\" class=\"data row6 col0\" >31</td>\n",
       "                        <td id=\"T_dff37_row6_col1\" class=\"data row6 col1\" >5.38%</td>\n",
       "            </tr>\n",
       "            <tr>\n",
       "                        <th id=\"T_dff37_level0_row7\" class=\"row_heading level0 row7\" >40+</th>\n",
       "                        <td id=\"T_dff37_row7_col0\" class=\"data row7 col0\" >12</td>\n",
       "                        <td id=\"T_dff37_row7_col1\" class=\"data row7 col1\" >2.08%</td>\n",
       "            </tr>\n",
       "    </tbody></table>"
      ],
      "text/plain": [
       "<pandas.io.formats.style.Styler at 0x16d476f0610>"
      ]
     },
     "execution_count": 28,
     "metadata": {},
     "output_type": "execute_result"
    }
   ],
   "source": [
    "age_summary.style.format(format_gen_summary)"
   ]
  },
  {
   "cell_type": "markdown",
   "metadata": {},
   "source": [
    "## Purchasing Analysis (Age)"
   ]
  },
  {
   "cell_type": "markdown",
   "metadata": {},
   "source": [
    "* Bin the purchase_data data frame by age\n",
    "\n",
    "\n",
    "* Run basic calculations to obtain purchase count, avg. purchase price, avg. purchase total per person etc. in the table below\n",
    "\n",
    "\n",
    "* Create a summary data frame to hold the results\n",
    "\n",
    "\n",
    "* Optional: give the displayed data cleaner formatting\n",
    "\n",
    "\n",
    "* Display the summary data frame"
   ]
  },
  {
   "cell_type": "code",
   "execution_count": 29,
   "metadata": {},
   "outputs": [],
   "source": [
    "purchase_ages = pd.DataFrame(purchase_data[[\"Price\", \"Age\"]])\n",
    "purchase_ages[\"Age Ranges\"] = pd.cut(purchase_ages[\"Age\"], bins, labels=group_names, include_lowest=True)\n",
    "purchase_ages2 = pd.DataFrame(purchase_ages[[\"Price\", \"Age Ranges\"]])"
   ]
  },
  {
   "cell_type": "code",
   "execution_count": 30,
   "metadata": {},
   "outputs": [],
   "source": [
    "purch_age_group = purchase_ages2.groupby(\"Age Ranges\")\n",
    "summary3 = purchase_ages2.groupby(\"Age Ranges\").count()"
   ]
  },
  {
   "cell_type": "code",
   "execution_count": 31,
   "metadata": {},
   "outputs": [],
   "source": [
    "summary3 = summary3.rename(columns={\"Price\":\"Purchase Count\"})"
   ]
  },
  {
   "cell_type": "code",
   "execution_count": 32,
   "metadata": {},
   "outputs": [],
   "source": [
    "age_avg_price = purch_age_group[\"Price\"].mean()"
   ]
  },
  {
   "cell_type": "code",
   "execution_count": 33,
   "metadata": {},
   "outputs": [],
   "source": [
    "summary3[\"Average Purchase Price\"] = age_avg_price"
   ]
  },
  {
   "cell_type": "code",
   "execution_count": 34,
   "metadata": {},
   "outputs": [],
   "source": [
    "age_tot_price = purch_age_group[\"Price\"].sum()"
   ]
  },
  {
   "cell_type": "code",
   "execution_count": 35,
   "metadata": {},
   "outputs": [],
   "source": [
    "summary3[\"Total Purchase Value\"] = age_tot_price"
   ]
  },
  {
   "cell_type": "code",
   "execution_count": 36,
   "metadata": {},
   "outputs": [],
   "source": [
    "summary3[\"Avg Total Purchase per Person\"] = age_tot_price / age_group[\"SN\"]\n",
    "format_summary2 = {\"Average Purchase Price\":'${:,.2f}', \"Total Purchase Value\": '${:,.2f}', \"Avg Total Purchase per Person\": '${:,.2f}'}"
   ]
  },
  {
   "cell_type": "code",
   "execution_count": 37,
   "metadata": {},
   "outputs": [
    {
     "data": {
      "text/html": [
       "<style  type=\"text/css\" >\n",
       "</style><table id=\"T_a8959_\" ><thead>    <tr>        <th class=\"blank level0\" ></th>        <th class=\"col_heading level0 col0\" >Purchase Count</th>        <th class=\"col_heading level0 col1\" >Average Purchase Price</th>        <th class=\"col_heading level0 col2\" >Total Purchase Value</th>        <th class=\"col_heading level0 col3\" >Avg Total Purchase per Person</th>    </tr>    <tr>        <th class=\"index_name level0\" >Age Ranges</th>        <th class=\"blank\" ></th>        <th class=\"blank\" ></th>        <th class=\"blank\" ></th>        <th class=\"blank\" ></th>    </tr></thead><tbody>\n",
       "                <tr>\n",
       "                        <th id=\"T_a8959_level0_row0\" class=\"row_heading level0 row0\" ><10</th>\n",
       "                        <td id=\"T_a8959_row0_col0\" class=\"data row0 col0\" >23</td>\n",
       "                        <td id=\"T_a8959_row0_col1\" class=\"data row0 col1\" >$3.35</td>\n",
       "                        <td id=\"T_a8959_row0_col2\" class=\"data row0 col2\" >$77.13</td>\n",
       "                        <td id=\"T_a8959_row0_col3\" class=\"data row0 col3\" >$4.54</td>\n",
       "            </tr>\n",
       "            <tr>\n",
       "                        <th id=\"T_a8959_level0_row1\" class=\"row_heading level0 row1\" >10-14</th>\n",
       "                        <td id=\"T_a8959_row1_col0\" class=\"data row1 col0\" >28</td>\n",
       "                        <td id=\"T_a8959_row1_col1\" class=\"data row1 col1\" >$2.96</td>\n",
       "                        <td id=\"T_a8959_row1_col2\" class=\"data row1 col2\" >$82.78</td>\n",
       "                        <td id=\"T_a8959_row1_col3\" class=\"data row1 col3\" >$3.76</td>\n",
       "            </tr>\n",
       "            <tr>\n",
       "                        <th id=\"T_a8959_level0_row2\" class=\"row_heading level0 row2\" >15-19</th>\n",
       "                        <td id=\"T_a8959_row2_col0\" class=\"data row2 col0\" >136</td>\n",
       "                        <td id=\"T_a8959_row2_col1\" class=\"data row2 col1\" >$3.04</td>\n",
       "                        <td id=\"T_a8959_row2_col2\" class=\"data row2 col2\" >$412.89</td>\n",
       "                        <td id=\"T_a8959_row2_col3\" class=\"data row2 col3\" >$3.86</td>\n",
       "            </tr>\n",
       "            <tr>\n",
       "                        <th id=\"T_a8959_level0_row3\" class=\"row_heading level0 row3\" >20-24</th>\n",
       "                        <td id=\"T_a8959_row3_col0\" class=\"data row3 col0\" >365</td>\n",
       "                        <td id=\"T_a8959_row3_col1\" class=\"data row3 col1\" >$3.05</td>\n",
       "                        <td id=\"T_a8959_row3_col2\" class=\"data row3 col2\" >$1,114.06</td>\n",
       "                        <td id=\"T_a8959_row3_col3\" class=\"data row3 col3\" >$4.32</td>\n",
       "            </tr>\n",
       "            <tr>\n",
       "                        <th id=\"T_a8959_level0_row4\" class=\"row_heading level0 row4\" >25-29</th>\n",
       "                        <td id=\"T_a8959_row4_col0\" class=\"data row4 col0\" >101</td>\n",
       "                        <td id=\"T_a8959_row4_col1\" class=\"data row4 col1\" >$2.90</td>\n",
       "                        <td id=\"T_a8959_row4_col2\" class=\"data row4 col2\" >$293.00</td>\n",
       "                        <td id=\"T_a8959_row4_col3\" class=\"data row4 col3\" >$3.81</td>\n",
       "            </tr>\n",
       "            <tr>\n",
       "                        <th id=\"T_a8959_level0_row5\" class=\"row_heading level0 row5\" >30-34</th>\n",
       "                        <td id=\"T_a8959_row5_col0\" class=\"data row5 col0\" >73</td>\n",
       "                        <td id=\"T_a8959_row5_col1\" class=\"data row5 col1\" >$2.93</td>\n",
       "                        <td id=\"T_a8959_row5_col2\" class=\"data row5 col2\" >$214.00</td>\n",
       "                        <td id=\"T_a8959_row5_col3\" class=\"data row5 col3\" >$4.12</td>\n",
       "            </tr>\n",
       "            <tr>\n",
       "                        <th id=\"T_a8959_level0_row6\" class=\"row_heading level0 row6\" >35-39</th>\n",
       "                        <td id=\"T_a8959_row6_col0\" class=\"data row6 col0\" >41</td>\n",
       "                        <td id=\"T_a8959_row6_col1\" class=\"data row6 col1\" >$3.60</td>\n",
       "                        <td id=\"T_a8959_row6_col2\" class=\"data row6 col2\" >$147.67</td>\n",
       "                        <td id=\"T_a8959_row6_col3\" class=\"data row6 col3\" >$4.76</td>\n",
       "            </tr>\n",
       "            <tr>\n",
       "                        <th id=\"T_a8959_level0_row7\" class=\"row_heading level0 row7\" >40+</th>\n",
       "                        <td id=\"T_a8959_row7_col0\" class=\"data row7 col0\" >13</td>\n",
       "                        <td id=\"T_a8959_row7_col1\" class=\"data row7 col1\" >$2.94</td>\n",
       "                        <td id=\"T_a8959_row7_col2\" class=\"data row7 col2\" >$38.24</td>\n",
       "                        <td id=\"T_a8959_row7_col3\" class=\"data row7 col3\" >$3.19</td>\n",
       "            </tr>\n",
       "    </tbody></table>"
      ],
      "text/plain": [
       "<pandas.io.formats.style.Styler at 0x16d47714b50>"
      ]
     },
     "execution_count": 37,
     "metadata": {},
     "output_type": "execute_result"
    }
   ],
   "source": [
    "summary3.style.format(format_summary2)"
   ]
  },
  {
   "cell_type": "markdown",
   "metadata": {},
   "source": [
    "## Top Spenders"
   ]
  },
  {
   "cell_type": "markdown",
   "metadata": {},
   "source": [
    "* Run basic calculations to obtain the results in the table below\n",
    "\n",
    "\n",
    "* Create a summary data frame to hold the results\n",
    "\n",
    "\n",
    "* Sort the total purchase value column in descending order\n",
    "\n",
    "\n",
    "* Optional: give the displayed data cleaner formatting\n",
    "\n",
    "\n",
    "* Display a preview of the summary data frame\n",
    "\n"
   ]
  },
  {
   "cell_type": "code",
   "execution_count": 38,
   "metadata": {},
   "outputs": [],
   "source": [
    "purch_count = pd.DataFrame(purchase_data[[\"SN\", \"Price\"]])\n",
    "purch_count2 = purch_count.groupby(\"SN\")\n",
    "purch_count3 = purch_count2.count()"
   ]
  },
  {
   "cell_type": "code",
   "execution_count": 39,
   "metadata": {},
   "outputs": [],
   "source": [
    "summary4 = purch_count3.rename(columns={\"Price\":\"Purchase Count\"})"
   ]
  },
  {
   "cell_type": "code",
   "execution_count": 40,
   "metadata": {},
   "outputs": [],
   "source": [
    "count_avg_price = purch_count2[\"Price\"].mean()"
   ]
  },
  {
   "cell_type": "code",
   "execution_count": 41,
   "metadata": {},
   "outputs": [],
   "source": [
    "summary4[\"Average Purchase Price\"] = count_avg_price"
   ]
  },
  {
   "cell_type": "code",
   "execution_count": 42,
   "metadata": {},
   "outputs": [],
   "source": [
    "count_tot_price = purch_count2[\"Price\"].sum()"
   ]
  },
  {
   "cell_type": "code",
   "execution_count": 43,
   "metadata": {},
   "outputs": [],
   "source": [
    "summary4[\"Total Purchase Value\"] = count_tot_price"
   ]
  },
  {
   "cell_type": "code",
   "execution_count": 44,
   "metadata": {},
   "outputs": [],
   "source": [
    "summary4 = summary4.sort_values(\"Total Purchase Value\", ascending=False)"
   ]
  },
  {
   "cell_type": "code",
   "execution_count": 45,
   "metadata": {},
   "outputs": [],
   "source": [
    "format_summary2 = {\"Average Purchase Price\":'${:,.2f}', \"Total Purchase Value\": '${:,.2f}'}"
   ]
  },
  {
   "cell_type": "code",
   "execution_count": 46,
   "metadata": {},
   "outputs": [
    {
     "data": {
      "text/html": [
       "<style  type=\"text/css\" >\n",
       "</style><table id=\"T_02f3f_\" ><thead>    <tr>        <th class=\"blank level0\" ></th>        <th class=\"col_heading level0 col0\" >Purchase Count</th>        <th class=\"col_heading level0 col1\" >Average Purchase Price</th>        <th class=\"col_heading level0 col2\" >Total Purchase Value</th>    </tr>    <tr>        <th class=\"index_name level0\" >SN</th>        <th class=\"blank\" ></th>        <th class=\"blank\" ></th>        <th class=\"blank\" ></th>    </tr></thead><tbody>\n",
       "                <tr>\n",
       "                        <th id=\"T_02f3f_level0_row0\" class=\"row_heading level0 row0\" >Lisosia93</th>\n",
       "                        <td id=\"T_02f3f_row0_col0\" class=\"data row0 col0\" >5</td>\n",
       "                        <td id=\"T_02f3f_row0_col1\" class=\"data row0 col1\" >$3.79</td>\n",
       "                        <td id=\"T_02f3f_row0_col2\" class=\"data row0 col2\" >$18.96</td>\n",
       "            </tr>\n",
       "            <tr>\n",
       "                        <th id=\"T_02f3f_level0_row1\" class=\"row_heading level0 row1\" >Idastidru52</th>\n",
       "                        <td id=\"T_02f3f_row1_col0\" class=\"data row1 col0\" >4</td>\n",
       "                        <td id=\"T_02f3f_row1_col1\" class=\"data row1 col1\" >$3.86</td>\n",
       "                        <td id=\"T_02f3f_row1_col2\" class=\"data row1 col2\" >$15.45</td>\n",
       "            </tr>\n",
       "            <tr>\n",
       "                        <th id=\"T_02f3f_level0_row2\" class=\"row_heading level0 row2\" >Chamjask73</th>\n",
       "                        <td id=\"T_02f3f_row2_col0\" class=\"data row2 col0\" >3</td>\n",
       "                        <td id=\"T_02f3f_row2_col1\" class=\"data row2 col1\" >$4.61</td>\n",
       "                        <td id=\"T_02f3f_row2_col2\" class=\"data row2 col2\" >$13.83</td>\n",
       "            </tr>\n",
       "            <tr>\n",
       "                        <th id=\"T_02f3f_level0_row3\" class=\"row_heading level0 row3\" >Iral74</th>\n",
       "                        <td id=\"T_02f3f_row3_col0\" class=\"data row3 col0\" >4</td>\n",
       "                        <td id=\"T_02f3f_row3_col1\" class=\"data row3 col1\" >$3.40</td>\n",
       "                        <td id=\"T_02f3f_row3_col2\" class=\"data row3 col2\" >$13.62</td>\n",
       "            </tr>\n",
       "            <tr>\n",
       "                        <th id=\"T_02f3f_level0_row4\" class=\"row_heading level0 row4\" >Iskadarya95</th>\n",
       "                        <td id=\"T_02f3f_row4_col0\" class=\"data row4 col0\" >3</td>\n",
       "                        <td id=\"T_02f3f_row4_col1\" class=\"data row4 col1\" >$4.37</td>\n",
       "                        <td id=\"T_02f3f_row4_col2\" class=\"data row4 col2\" >$13.10</td>\n",
       "            </tr>\n",
       "    </tbody></table>"
      ],
      "text/plain": [
       "<pandas.io.formats.style.Styler at 0x16d47721a30>"
      ]
     },
     "execution_count": 46,
     "metadata": {},
     "output_type": "execute_result"
    }
   ],
   "source": [
    "summary4.head().style.format(format_summary2)"
   ]
  },
  {
   "cell_type": "markdown",
   "metadata": {},
   "source": [
    "## Most Popular Items"
   ]
  },
  {
   "cell_type": "markdown",
   "metadata": {},
   "source": [
    "* Retrieve the Item ID, Item Name, and Item Price columns\n",
    "\n",
    "\n",
    "* Group by Item ID and Item Name. Perform calculations to obtain purchase count, average item price, and total purchase value\n",
    "\n",
    "\n",
    "* Create a summary data frame to hold the results\n",
    "\n",
    "\n",
    "* Sort the purchase count column in descending order\n",
    "\n",
    "\n",
    "* Optional: give the displayed data cleaner formatting\n",
    "\n",
    "\n",
    "* Display a preview of the summary data frame\n",
    "\n"
   ]
  },
  {
   "cell_type": "code",
   "execution_count": 47,
   "metadata": {},
   "outputs": [],
   "source": [
    "item_count = pd.DataFrame(purchase_data[[\"Item ID\", \"Item Name\", \"Price\"]])"
   ]
  },
  {
   "cell_type": "code",
   "execution_count": 48,
   "metadata": {},
   "outputs": [],
   "source": [
    "item_count_grp = item_count.groupby([\"Item ID\", \"Item Name\"])\n",
    "item_count_grp2 = item_count_grp.count()\n",
    "item_count_grp3 = item_count_grp[\"Price\"].sum()"
   ]
  },
  {
   "cell_type": "code",
   "execution_count": 49,
   "metadata": {},
   "outputs": [],
   "source": [
    "summary5 = item_count_grp2.rename(columns={\"Price\":\"Purchase Count\"})\n",
    "summary5 = summary5.sort_values(\"Purchase Count\", ascending=False)"
   ]
  },
  {
   "cell_type": "code",
   "execution_count": 50,
   "metadata": {},
   "outputs": [],
   "source": [
    "summary5[\"Item Price\"] = item_count_grp3 / summary5[\"Purchase Count\"]"
   ]
  },
  {
   "cell_type": "code",
   "execution_count": 51,
   "metadata": {},
   "outputs": [],
   "source": [
    "summary5[\"Total Purchase Value\"] = item_count_grp3"
   ]
  },
  {
   "cell_type": "code",
   "execution_count": 52,
   "metadata": {},
   "outputs": [],
   "source": [
    "format_summary2 = {\"Item Price\":'${:,.2f}', \"Total Purchase Value\": '${:,.2f}'}"
   ]
  },
  {
   "cell_type": "code",
   "execution_count": 53,
   "metadata": {},
   "outputs": [
    {
     "data": {
      "text/html": [
       "<style  type=\"text/css\" >\n",
       "</style><table id=\"T_d2a93_\" ><thead>    <tr>        <th class=\"blank\" ></th>        <th class=\"blank level0\" ></th>        <th class=\"col_heading level0 col0\" >Purchase Count</th>        <th class=\"col_heading level0 col1\" >Item Price</th>        <th class=\"col_heading level0 col2\" >Total Purchase Value</th>    </tr>    <tr>        <th class=\"index_name level0\" >Item ID</th>        <th class=\"index_name level1\" >Item Name</th>        <th class=\"blank\" ></th>        <th class=\"blank\" ></th>        <th class=\"blank\" ></th>    </tr></thead><tbody>\n",
       "                <tr>\n",
       "                        <th id=\"T_d2a93_level0_row0\" class=\"row_heading level0 row0\" >92</th>\n",
       "                        <th id=\"T_d2a93_level1_row0\" class=\"row_heading level1 row0\" >Final Critic</th>\n",
       "                        <td id=\"T_d2a93_row0_col0\" class=\"data row0 col0\" >13</td>\n",
       "                        <td id=\"T_d2a93_row0_col1\" class=\"data row0 col1\" >$4.61</td>\n",
       "                        <td id=\"T_d2a93_row0_col2\" class=\"data row0 col2\" >$59.99</td>\n",
       "            </tr>\n",
       "            <tr>\n",
       "                        <th id=\"T_d2a93_level0_row1\" class=\"row_heading level0 row1\" >178</th>\n",
       "                        <th id=\"T_d2a93_level1_row1\" class=\"row_heading level1 row1\" >Oathbreaker, Last Hope of the Breaking Storm</th>\n",
       "                        <td id=\"T_d2a93_row1_col0\" class=\"data row1 col0\" >12</td>\n",
       "                        <td id=\"T_d2a93_row1_col1\" class=\"data row1 col1\" >$4.23</td>\n",
       "                        <td id=\"T_d2a93_row1_col2\" class=\"data row1 col2\" >$50.76</td>\n",
       "            </tr>\n",
       "            <tr>\n",
       "                        <th id=\"T_d2a93_level0_row2\" class=\"row_heading level0 row2\" >145</th>\n",
       "                        <th id=\"T_d2a93_level1_row2\" class=\"row_heading level1 row2\" >Fiery Glass Crusader</th>\n",
       "                        <td id=\"T_d2a93_row2_col0\" class=\"data row2 col0\" >9</td>\n",
       "                        <td id=\"T_d2a93_row2_col1\" class=\"data row2 col1\" >$4.58</td>\n",
       "                        <td id=\"T_d2a93_row2_col2\" class=\"data row2 col2\" >$41.22</td>\n",
       "            </tr>\n",
       "            <tr>\n",
       "                        <th id=\"T_d2a93_level0_row3\" class=\"row_heading level0 row3\" >132</th>\n",
       "                        <th id=\"T_d2a93_level1_row3\" class=\"row_heading level1 row3\" >Persuasion</th>\n",
       "                        <td id=\"T_d2a93_row3_col0\" class=\"data row3 col0\" >9</td>\n",
       "                        <td id=\"T_d2a93_row3_col1\" class=\"data row3 col1\" >$3.22</td>\n",
       "                        <td id=\"T_d2a93_row3_col2\" class=\"data row3 col2\" >$28.99</td>\n",
       "            </tr>\n",
       "            <tr>\n",
       "                        <th id=\"T_d2a93_level0_row4\" class=\"row_heading level0 row4\" >108</th>\n",
       "                        <th id=\"T_d2a93_level1_row4\" class=\"row_heading level1 row4\" >Extraction, Quickblade Of Trembling Hands</th>\n",
       "                        <td id=\"T_d2a93_row4_col0\" class=\"data row4 col0\" >9</td>\n",
       "                        <td id=\"T_d2a93_row4_col1\" class=\"data row4 col1\" >$3.53</td>\n",
       "                        <td id=\"T_d2a93_row4_col2\" class=\"data row4 col2\" >$31.77</td>\n",
       "            </tr>\n",
       "    </tbody></table>"
      ],
      "text/plain": [
       "<pandas.io.formats.style.Styler at 0x16d4772bee0>"
      ]
     },
     "execution_count": 53,
     "metadata": {},
     "output_type": "execute_result"
    }
   ],
   "source": [
    "summary5.head().style.format(format_summary2)"
   ]
  },
  {
   "cell_type": "markdown",
   "metadata": {},
   "source": [
    "## Most Profitable Items"
   ]
  },
  {
   "cell_type": "markdown",
   "metadata": {},
   "source": [
    "* Sort the above table by total purchase value in descending order\n",
    "\n",
    "\n",
    "* Optional: give the displayed data cleaner formatting\n",
    "\n",
    "\n",
    "* Display a preview of the data frame\n",
    "\n"
   ]
  },
  {
   "cell_type": "code",
   "execution_count": 54,
   "metadata": {},
   "outputs": [],
   "source": [
    "summary5 = summary5.sort_values(\"Total Purchase Value\", ascending=False)\n",
    "format_summary2 = {\"Item Price\":'${:,.2f}', \"Total Purchase Value\": '${:,.2f}'}"
   ]
  },
  {
   "cell_type": "code",
   "execution_count": 55,
   "metadata": {
    "scrolled": true
   },
   "outputs": [
    {
     "data": {
      "text/html": [
       "<style  type=\"text/css\" >\n",
       "</style><table id=\"T_79883_\" ><thead>    <tr>        <th class=\"blank\" ></th>        <th class=\"blank level0\" ></th>        <th class=\"col_heading level0 col0\" >Purchase Count</th>        <th class=\"col_heading level0 col1\" >Item Price</th>        <th class=\"col_heading level0 col2\" >Total Purchase Value</th>    </tr>    <tr>        <th class=\"index_name level0\" >Item ID</th>        <th class=\"index_name level1\" >Item Name</th>        <th class=\"blank\" ></th>        <th class=\"blank\" ></th>        <th class=\"blank\" ></th>    </tr></thead><tbody>\n",
       "                <tr>\n",
       "                        <th id=\"T_79883_level0_row0\" class=\"row_heading level0 row0\" >92</th>\n",
       "                        <th id=\"T_79883_level1_row0\" class=\"row_heading level1 row0\" >Final Critic</th>\n",
       "                        <td id=\"T_79883_row0_col0\" class=\"data row0 col0\" >13</td>\n",
       "                        <td id=\"T_79883_row0_col1\" class=\"data row0 col1\" >$4.61</td>\n",
       "                        <td id=\"T_79883_row0_col2\" class=\"data row0 col2\" >$59.99</td>\n",
       "            </tr>\n",
       "            <tr>\n",
       "                        <th id=\"T_79883_level0_row1\" class=\"row_heading level0 row1\" >178</th>\n",
       "                        <th id=\"T_79883_level1_row1\" class=\"row_heading level1 row1\" >Oathbreaker, Last Hope of the Breaking Storm</th>\n",
       "                        <td id=\"T_79883_row1_col0\" class=\"data row1 col0\" >12</td>\n",
       "                        <td id=\"T_79883_row1_col1\" class=\"data row1 col1\" >$4.23</td>\n",
       "                        <td id=\"T_79883_row1_col2\" class=\"data row1 col2\" >$50.76</td>\n",
       "            </tr>\n",
       "            <tr>\n",
       "                        <th id=\"T_79883_level0_row2\" class=\"row_heading level0 row2\" >82</th>\n",
       "                        <th id=\"T_79883_level1_row2\" class=\"row_heading level1 row2\" >Nirvana</th>\n",
       "                        <td id=\"T_79883_row2_col0\" class=\"data row2 col0\" >9</td>\n",
       "                        <td id=\"T_79883_row2_col1\" class=\"data row2 col1\" >$4.90</td>\n",
       "                        <td id=\"T_79883_row2_col2\" class=\"data row2 col2\" >$44.10</td>\n",
       "            </tr>\n",
       "            <tr>\n",
       "                        <th id=\"T_79883_level0_row3\" class=\"row_heading level0 row3\" >145</th>\n",
       "                        <th id=\"T_79883_level1_row3\" class=\"row_heading level1 row3\" >Fiery Glass Crusader</th>\n",
       "                        <td id=\"T_79883_row3_col0\" class=\"data row3 col0\" >9</td>\n",
       "                        <td id=\"T_79883_row3_col1\" class=\"data row3 col1\" >$4.58</td>\n",
       "                        <td id=\"T_79883_row3_col2\" class=\"data row3 col2\" >$41.22</td>\n",
       "            </tr>\n",
       "            <tr>\n",
       "                        <th id=\"T_79883_level0_row4\" class=\"row_heading level0 row4\" >103</th>\n",
       "                        <th id=\"T_79883_level1_row4\" class=\"row_heading level1 row4\" >Singed Scalpel</th>\n",
       "                        <td id=\"T_79883_row4_col0\" class=\"data row4 col0\" >8</td>\n",
       "                        <td id=\"T_79883_row4_col1\" class=\"data row4 col1\" >$4.35</td>\n",
       "                        <td id=\"T_79883_row4_col2\" class=\"data row4 col2\" >$34.80</td>\n",
       "            </tr>\n",
       "    </tbody></table>"
      ],
      "text/plain": [
       "<pandas.io.formats.style.Styler at 0x16d4771df10>"
      ]
     },
     "execution_count": 55,
     "metadata": {},
     "output_type": "execute_result"
    }
   ],
   "source": [
    "summary5.head().style.format(format_summary2)"
   ]
  }
 ],
 "metadata": {
  "anaconda-cloud": {},
  "kernel_info": {
   "name": "python3"
  },
  "kernelspec": {
   "display_name": "Python 3",
   "language": "python",
   "name": "python3"
  },
  "language_info": {
   "codemirror_mode": {
    "name": "ipython",
    "version": 3
   },
   "file_extension": ".py",
   "mimetype": "text/x-python",
   "name": "python",
   "nbconvert_exporter": "python",
   "pygments_lexer": "ipython3",
   "version": "3.8.8"
  },
  "latex_envs": {
   "LaTeX_envs_menu_present": true,
   "autoclose": false,
   "autocomplete": true,
   "bibliofile": "biblio.bib",
   "cite_by": "apalike",
   "current_citInitial": 1,
   "eqLabelWithNumbers": true,
   "eqNumInitial": 1,
   "hotkeys": {
    "equation": "Ctrl-E",
    "itemize": "Ctrl-I"
   },
   "labels_anchors": false,
   "latex_user_defs": false,
   "report_style_numbering": false,
   "user_envs_cfg": false
  },
  "nteract": {
   "version": "0.2.0"
  }
 },
 "nbformat": 4,
 "nbformat_minor": 2
}
