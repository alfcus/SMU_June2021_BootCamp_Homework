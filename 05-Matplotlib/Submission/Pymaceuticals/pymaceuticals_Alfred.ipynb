{
 "cells": [
  {
   "cell_type": "markdown",
   "metadata": {},
   "source": [
    "## Observations and Insights "
   ]
  },
  {
   "cell_type": "markdown",
   "metadata": {},
   "source": []
  },
  {
   "cell_type": "code",
   "execution_count": null,
   "metadata": {},
   "outputs": [],
   "source": [
    "# Dependencies and Setup\n",
    "import matplotlib.pyplot as plt\n",
    "import pandas as pd\n",
    "import scipy.stats as st\n",
    "import numpy as np\n",
    "\n",
    "# Study data files\n",
    "mouse_metadata_path = \"data/Mouse_metadata.csv\"\n",
    "study_results_path = \"data/Study_results.csv\"\n",
    "\n",
    "# Read the mouse data and the study results\n",
    "mouse_metadata = pd.read_csv(mouse_metadata_path)\n",
    "study_results = pd.read_csv(study_results_path)\n"
   ]
  },
  {
   "cell_type": "code",
   "execution_count": null,
   "metadata": {},
   "outputs": [],
   "source": [
    "# Combine the data into a single dataset\n",
    "mouse_df = pd.merge(study_results, mouse_metadata, on=\"Mouse ID\")"
   ]
  },
  {
   "cell_type": "code",
   "execution_count": null,
   "metadata": {},
   "outputs": [],
   "source": [
    "# Display the data table for preview\n",
    "mouse_df.head()"
   ]
  },
  {
   "cell_type": "code",
   "execution_count": null,
   "metadata": {},
   "outputs": [],
   "source": [
    "mouse_df.info()"
   ]
  },
  {
   "cell_type": "code",
   "execution_count": null,
   "metadata": {},
   "outputs": [],
   "source": [
    "# Checking the number of mice.\n",
    "len(pd.unique(mouse_df['Mouse ID']))"
   ]
  },
  {
   "cell_type": "code",
   "execution_count": null,
   "metadata": {},
   "outputs": [],
   "source": [
    "# Getting the duplicate mice by ID number that shows up for Mouse ID and Timepoint. \n",
    "dupes = mouse_df.groupby([\"Mouse ID\", \"Timepoint\"]).size().reset_index()\n",
    "dupes.columns = [\"Mouse ID\", \"Timepoint\", \"Count\"]\n",
    "dupes.sort_values(by=\"Count\", ascending=False).head()"
   ]
  },
  {
   "cell_type": "code",
   "execution_count": null,
   "metadata": {},
   "outputs": [],
   "source": [
    "# Optional: Get all the data for the duplicate mouse ID. \n",
    "mouse_df.loc[mouse_df[\"Mouse ID\"] == \"g989\"]"
   ]
  },
  {
   "cell_type": "code",
   "execution_count": null,
   "metadata": {},
   "outputs": [],
   "source": [
    "# Create a clean DataFrame by dropping the duplicate mouse by its ID.\n",
    "mouse_drop_df = mouse_df.loc[mouse_df[\"Mouse ID\"] != \"g989\"]\n",
    "mouse_drop_df"
   ]
  },
  {
   "cell_type": "code",
   "execution_count": null,
   "metadata": {},
   "outputs": [],
   "source": [
    "# Checking the number of mice in the clean DataFrame.\n",
    "len(pd.unique(mouse_drop_df['Mouse ID']))"
   ]
  },
  {
   "cell_type": "markdown",
   "metadata": {},
   "source": [
    "## Summary Statistics"
   ]
  },
  {
   "cell_type": "code",
   "execution_count": null,
   "metadata": {},
   "outputs": [],
   "source": [
    "# Generate a summary statistics table of mean, median, variance, standard deviation, and SEM of the tumor volume for each regimen\n",
    "\n",
    "# Use groupby and summary statistical methods to calculate the following properties of each drug regimen: \n",
    "# mean, median, variance, standard deviation, and SEM of the tumor volume. \n",
    "# Assemble the resulting series into a single summary dataframe.\n",
    "\n",
    "reg_mean = mouse_drop_df.groupby(\"Drug Regimen\").mean()\n",
    "reg_median = mouse_drop_df.groupby(\"Drug Regimen\").median()\n",
    "reg_var = mouse_drop_df.groupby(\"Drug Regimen\").var()\n",
    "reg_std = mouse_drop_df.groupby(\"Drug Regimen\").std()\n",
    "reg_sem = mouse_drop_df.groupby(\"Drug Regimen\").sem()"
   ]
  },
  {
   "cell_type": "code",
   "execution_count": null,
   "metadata": {},
   "outputs": [],
   "source": [
    "# Selecting Tumor Volume column\n",
    "reg_mean = mouse_drop_df.groupby(\"Drug Regimen\")[\"Tumor Volume (mm3)\"].mean()\n",
    "reg_median = mouse_drop_df.groupby(\"Drug Regimen\")[\"Tumor Volume (mm3)\"].median()\n",
    "reg_var = mouse_drop_df.groupby(\"Drug Regimen\")[\"Tumor Volume (mm3)\"].var()\n",
    "reg_std = mouse_drop_df.groupby(\"Drug Regimen\")[\"Tumor Volume (mm3)\"].std()\n",
    "reg_sem = mouse_drop_df.groupby(\"Drug Regimen\")[\"Tumor Volume (mm3)\"].sem()"
   ]
  },
  {
   "cell_type": "code",
   "execution_count": null,
   "metadata": {},
   "outputs": [],
   "source": [
    "summary = pd.DataFrame(reg_mean)\n",
    "summary.rename(columns = {'Tumor Volume (mm3)':'Tumor Mean'}, inplace=True)\n",
    "summary[\"Tumor Median\"] = pd.DataFrame(reg_median)\n",
    "summary[\"Tumor Var\"] = pd.DataFrame(reg_var)\n",
    "summary[\"Tumor Std\"] = pd.DataFrame(reg_std)\n",
    "summary[\"Tumor SEM\"] = pd.DataFrame(reg_sem)\n",
    "summary"
   ]
  },
  {
   "cell_type": "code",
   "execution_count": null,
   "metadata": {},
   "outputs": [],
   "source": [
    "# Generate a summary statistics table of mean, median, variance, standard deviation, and SEM of the tumor volume for each regimen\n",
    "\n",
    "# Using the aggregation method, produce the same summary statistics in a single line\n",
    "\n",
    "mouse_drop_df.groupby(\"Drug Regimen\")[\"Tumor Volume (mm3)\"].agg([\"mean\", \"median\", \"var\", \"std\", \"sem\"])"
   ]
  },
  {
   "cell_type": "markdown",
   "metadata": {},
   "source": [
    "## Bar and Pie Charts"
   ]
  },
  {
   "cell_type": "code",
   "execution_count": null,
   "metadata": {},
   "outputs": [],
   "source": [
    "# Generate a bar plot showing the total number of unique mice tested on each drug regimen using pandas.\n",
    "\n",
    "mouse_count = mouse_drop_df.groupby(\"Drug Regimen\")[\"Mouse ID\"].nunique()\n",
    "mouse_count = pd.DataFrame(mouse_count)\n",
    "mouse_count.rename(columns={\"Mouse ID\": \"Mouse Count\"}, inplace=True)\n",
    "mouse_count"
   ]
  },
  {
   "cell_type": "code",
   "execution_count": null,
   "metadata": {},
   "outputs": [],
   "source": [
    "mouse_count.plot(kind=\"bar\", color=['purple']).legend(loc='lower right')\n",
    "\n",
    "plt.title(\"Number of Unique Mice Tested per Regimen\")\n",
    "plt.xlabel(\"Regimen\")\n",
    "plt.ylabel(\"Mouse Count\")"
   ]
  },
  {
   "cell_type": "code",
   "execution_count": null,
   "metadata": {},
   "outputs": [],
   "source": [
    "mouse_count = mouse_count.reset_index()"
   ]
  },
  {
   "cell_type": "code",
   "execution_count": null,
   "metadata": {},
   "outputs": [],
   "source": [
    "# Generate a bar plot showing the total number of unique mice tested on each drug regimen using pyplot.\n",
    "\n",
    "plt.figure(figsize=(10,6))\n",
    "plt.bar(mouse_count[\"Drug Regimen\"], mouse_count[\"Mouse Count\"], color=\"teal\")\n",
    "\n",
    "plt.title(\"Number of Unique Mice Tested per Regimen\", fontsize=20, fontweight=\"bold\")\n",
    "plt.xlabel(\"Drug Regimen\", fontsize=14)\n",
    "plt.ylabel(\"Number of Mice\", fontsize=14)\n",
    "\n",
    "plt.show()"
   ]
  },
  {
   "cell_type": "code",
   "execution_count": null,
   "metadata": {},
   "outputs": [],
   "source": [
    "# Generate a pie plot showing the distribution of female versus male mice using pandas\n",
    "\n",
    "mouse_gen = mouse_drop_df.loc[:, [\"Mouse ID\", \"Sex\"]].drop_duplicates()\n",
    "mouse_gen_count = mouse_gen.groupby(\"Sex\").count()\n",
    "mouse_gen_count.rename(columns={\"Mouse ID\": \"Mouse Count\"}, inplace=True)\n",
    "mouse_gen_count"
   ]
  },
  {
   "cell_type": "code",
   "execution_count": null,
   "metadata": {},
   "outputs": [],
   "source": [
    "mouse_gen_count.plot(kind=\"pie\", subplots=True, autopct='%1.1f%%', figsize=(8, 8))"
   ]
  },
  {
   "cell_type": "code",
   "execution_count": null,
   "metadata": {},
   "outputs": [],
   "source": [
    "mouse_gen_count.index"
   ]
  },
  {
   "cell_type": "code",
   "execution_count": null,
   "metadata": {},
   "outputs": [],
   "source": [
    "mouse_gen_count[\"Mouse Count\"].values"
   ]
  },
  {
   "cell_type": "code",
   "execution_count": null,
   "metadata": {},
   "outputs": [],
   "source": [
    "# Generate a pie plot showing the distribution of female versus male mice using pyplot\n",
    "\n",
    "plt.figure(figsize=(10,6))\n",
    "plt.pie(mouse_gen_count[\"Mouse Count\"].values, labels=mouse_gen_count.index, colors=[\"pink\", \"lightskyblue\"], autopct=\"%1.1f%%\")\n",
    "\n",
    "# Create axes which are equal so we have a perfect circle\n",
    "plt.axis(\"equal\")\n",
    "\n",
    "plt.title(\"Mouse Gender Breakdown\", fontsize=20, fontweight=\"bold\")\n",
    "plt.show()"
   ]
  },
  {
   "cell_type": "markdown",
   "metadata": {},
   "source": [
    "## Quartiles, Outliers and Boxplots"
   ]
  },
  {
   "cell_type": "code",
   "execution_count": null,
   "metadata": {},
   "outputs": [],
   "source": [
    "# Calculate the final tumor volume of each mouse across four of the treatment regimens:  \n",
    "# Capomulin, Ramicane, Infubinol, and Ceftamin\n",
    "\n",
    "# Start by getting the last (greatest) timepoint for each mouse\n",
    "\n",
    "\n",
    "# Merge this group df with the original dataframe to get the tumor volume at the last timepoint\n"
   ]
  },
  {
   "cell_type": "code",
   "execution_count": null,
   "metadata": {},
   "outputs": [],
   "source": [
    "final_volume = mouse_drop_df.groupby([\"Mouse ID\", \"Drug Regimen\"])\n",
    "final_volume = final_volume[\"Timepoint\"].max()\n",
    "final_volume = final_volume.reset_index()\n",
    "final_volume2 = pd.merge(final_volume, mouse_drop_df, on=[\"Mouse ID\", \"Drug Regimen\", \"Timepoint\"], how=\"left\")\n",
    "final_volume2.head()"
   ]
  },
  {
   "cell_type": "code",
   "execution_count": null,
   "metadata": {},
   "outputs": [],
   "source": [
    "drug_list = [\"Capomulin\", \"Ramicane\", \"Infubinol\", \"Ceftamin\"]\n",
    "final_volume3 = final_volume2[final_volume2[\"Drug Regimen\"].isin(drug_list)].reset_index(drop=True)\n",
    "final_volume3.head()"
   ]
  },
  {
   "cell_type": "code",
   "execution_count": null,
   "metadata": {},
   "outputs": [],
   "source": [
    "# Put treatments into a list for for loop (and later for plot labels)\n",
    "\n",
    "treatment = final_volume3[\"Drug Regimen\"].tolist()\n",
    "\n",
    "# Create empty list to fill with tumor vol data (for plotting)\n",
    "\n",
    "tumor_cap = []\n",
    "tumor_ram = []\n",
    "tumor_inf = []\n",
    "tumor_cef = []\n",
    "\n",
    "# Calculate the IQR and quantitatively determine if there are any potential outliers. \n",
    "\n",
    "# quartiles = final_volume3[\"Tumor Volume (mm3)\"].quantile([.25,.5,.75])\n",
    "# lowerq = quartiles[0.25]\n",
    "# upperq = quartiles[0.75]\n",
    "# iqr = upperq-lowerq\n",
    "\n",
    "    # Locate the rows which contain mice on each drug and get the tumor volumes\n",
    "\n",
    "for row in range(len(final_volume3)):\n",
    "    if final_volume3.loc[row, \"Drug Regimen\"] == \"Capomulin\":\n",
    "        tumor_cap.append(final_volume3.loc[row, \"Tumor Volume (mm3)\"])\n",
    "    elif final_volume3.loc[row, \"Drug Regimen\"] == \"Ramicane\":\n",
    "        tumor_ram.append(final_volume3.loc[row, \"Tumor Volume (mm3)\"])\n",
    "    elif final_volume3.loc[row, \"Drug Regimen\"] == \"Infubinol\":\n",
    "        tumor_inf.append(final_volume3.loc[row, \"Tumor Volume (mm3)\"])\n",
    "    else:\n",
    "        tumor_cef.append(final_volume3.loc[row, \"Tumor Volume (mm3)\"])\n",
    "       \n",
    "    # add subset \n",
    "\n",
    "tumor_iqr_df = pd.DataFrame([tumor_cap, tumor_ram, tumor_inf, tumor_cef]).T\n",
    "tumor_iqr_df.columns = [\"Cap_Volume\", \"Ram_Volume\", \"Inf_Volume\", \"Cef_Volume\"]\n",
    "\n",
    "# tumor_cap_df = pd.DataFrame(tumor_cap) \n",
    "# tumor_cap_df.columns = [\"Volume\"]\n",
    "    \n",
    "    # Determine outliers using upper and lower bounds\n",
    "\n",
    "# quartiles = tumor_cap_df[\"Volume\"].quantile([.25,.5,.75])\n",
    "lowerq = tumor_iqr_df.quantile(0.25)\n",
    "upperq = tumor_iqr_df.quantile(0.75)\n",
    "iqr = upperq-lowerq\n",
    "    \n",
    "lower_bound = lowerq - (1.5*iqr)\n",
    "upper_bound = upperq + (1.5*iqr)\n",
    "\n",
    "outlier = tumor_iqr_df[((tumor_iqr_df < lower_bound) | (tumor_iqr_df > upper_bound))]\n",
    "outlier\n",
    "# outlier = tumor_iqr_df[(tumor_cap_df < lower_bound) | (tumor_cap_df > upper_bound)]\n",
    "# outlier"
   ]
  },
  {
   "cell_type": "code",
   "execution_count": null,
   "metadata": {},
   "outputs": [],
   "source": [
    "# Verifying outliers\n",
    "print(f\"Values below {lower_bound} could be outliers.\")\n",
    "print(f\"Values above {upper_bound} could be outliers.\")"
   ]
  },
  {
   "cell_type": "code",
   "execution_count": null,
   "metadata": {},
   "outputs": [],
   "source": [
    "# Generate a box plot of the final tumor volume of each mouse across four regimens of interest\n",
    "fig1, ax1 = plt.subplots()\n",
    "ax1.set_title(\"Total Volume per Drug Regimen\")\n",
    "ax1.set_ylabel(\"Volume\")\n",
    "ax1.boxplot(tumor_iqr_df, labels=[\"Capomulin\", \"Ramicane\", \"Infubinol\", \"Ceftamin\"],\n",
    "            flierprops={'marker': 'o', 'markersize': 10, 'markerfacecolor': 'red'})\n",
    "plt.show()"
   ]
  },
  {
   "cell_type": "markdown",
   "metadata": {},
   "source": [
    "## Line and Scatter Plots"
   ]
  },
  {
   "cell_type": "code",
   "execution_count": null,
   "metadata": {},
   "outputs": [],
   "source": [
    "# Generate a line plot of tumor volume vs. time point for a mouse treated with Capomulin\n",
    "mouse_line = mouse_drop_df.loc[mouse_df[\"Mouse ID\"] == \"m601\"]\n",
    "mouse_line"
   ]
  },
  {
   "cell_type": "code",
   "execution_count": null,
   "metadata": {},
   "outputs": [],
   "source": [
    "plt.plot(mouse_line[\"Timepoint\"], mouse_line[\"Tumor Volume (mm3)\"])\n",
    "plt.title(\"Tumor Volume Treated by Capomulin\", fontsize=20, fontweight=\"bold\")\n",
    "plt.xlabel(\"Timepoint\", fontsize=14)\n",
    "plt.ylabel(\"Tumor Volume (mm3)\", fontsize=14)\n",
    "plt.show()"
   ]
  },
  {
   "cell_type": "code",
   "execution_count": null,
   "metadata": {},
   "outputs": [],
   "source": [
    "# Generate a scatter plot of average tumor volume vs. mouse weight for the Capomulin regimen\n",
    "mouse_scatter = mouse_drop_df.loc[mouse_df[\"Drug Regimen\"] == \"Capomulin\"]\n",
    "mouse_avg_vol = mouse_scatter.groupby(\"Mouse ID\")[\"Tumor Volume (mm3)\"].mean().tolist()"
   ]
  },
  {
   "cell_type": "code",
   "execution_count": null,
   "metadata": {},
   "outputs": [],
   "source": [
    "mouse_weight = mouse_scatter.groupby(\"Mouse ID\")\n",
    "mouse_weight = mouse_weight[\"Weight (g)\"].first().tolist()"
   ]
  },
  {
   "cell_type": "code",
   "execution_count": null,
   "metadata": {},
   "outputs": [],
   "source": [
    "plt.title(\"Avgerage Tumor Volume v Weight for Capomulin Regimen\")\n",
    "plt.xlabel(\"Weight (g)\")\n",
    "plt.ylabel(\"Average Tumor Volume (mm3)\")\n",
    "plt.scatter(mouse_weight, mouse_avg_vol, marker=\"o\", facecolors=\"red\", edgecolors=\"black\")"
   ]
  },
  {
   "cell_type": "markdown",
   "metadata": {},
   "source": [
    "## Correlation and Regression"
   ]
  },
  {
   "cell_type": "code",
   "execution_count": null,
   "metadata": {},
   "outputs": [],
   "source": [
    "# Calculate the correlation coefficient and linear regression model \n",
    "# for mouse weight and average tumor volume for the Capomulin regimen\n",
    "correlation = st.pearsonr(mouse_weight, mouse_avg_vol)\n",
    "print(f\"The correlation between both factors is {round(correlation[0],2)}\")"
   ]
  },
  {
   "cell_type": "code",
   "execution_count": null,
   "metadata": {},
   "outputs": [],
   "source": [
    "reg_data = pd.DataFrame()\n",
    "mouse_weight = mouse_scatter.groupby(\"Mouse ID\")\n",
    "reg_data = pd.DataFrame(mouse_weight[\"Weight (g)\"].first())"
   ]
  },
  {
   "cell_type": "code",
   "execution_count": null,
   "metadata": {},
   "outputs": [],
   "source": [
    "mouse_scatter = mouse_drop_df.loc[mouse_df[\"Drug Regimen\"] == \"Capomulin\"]\n",
    "reg_data[\"Average Tumor Volume (mm3)\"] = mouse_scatter.groupby(\"Mouse ID\")[\"Tumor Volume (mm3)\"].mean()\n",
    "reg_data[\"Weight (g)\"] = reg_data[\"Weight (g)\"].astype(float)"
   ]
  },
  {
   "cell_type": "code",
   "execution_count": null,
   "metadata": {},
   "outputs": [],
   "source": [
    "x_values = reg_data[\"Weight (g)\"]\n",
    "y_values = reg_data[\"Average Tumor Volume (mm3)\"]\n",
    "\n",
    "slope, intercept, rvalue, pvalue, stderr = st.linregress(x_values, y_values)\n",
    "\n",
    "regress_values = x_values * slope + intercept\n",
    "line_eq = \"y = \" + str(round(slope,2)) + \"x + \" + str(round(intercept,2))\n",
    "plt.scatter(x_values,y_values)\n",
    "plt.plot(x_values,regress_values,\"r-\")\n",
    "plt.annotate(line_eq,(20,38),fontsize=15,color=\"red\")\n",
    "plt.xlabel(\"Weight (g)\")\n",
    "plt.ylabel(\"Average Tumor Volume (mm3)\")\n",
    "plt.show()"
   ]
  },
  {
   "cell_type": "code",
   "execution_count": null,
   "metadata": {},
   "outputs": [],
   "source": [
    "# observations and insights\n",
    "'''\n",
    "The boxplot shows the consistency of the drug regimens having only one outlier. Also, Infubinol and Ceftamin were used to treat\n",
    "the mice with higher tumor volume while Capomulin and Ramicane took care of those with lower tumor volume.\n",
    "\n",
    "In focusing on the Capomulin regimen, the treatment reduces the tumor volume over time based on the line plot.\n",
    "\n",
    "At first glance, the scatter plot shows a positive correlation between weight and average tumor volume. That observation is\n",
    "verified having a correlation coefficient of .84 and a very positive slope in the linear regression model.\n",
    "'''"
   ]
  },
  {
   "cell_type": "code",
   "execution_count": null,
   "metadata": {},
   "outputs": [],
   "source": []
  }
 ],
 "metadata": {
  "anaconda-cloud": {},
  "kernelspec": {
   "display_name": "Python 3",
   "language": "python",
   "name": "python3"
  },
  "language_info": {
   "codemirror_mode": {
    "name": "ipython",
    "version": 3
   },
   "file_extension": ".py",
   "mimetype": "text/x-python",
   "name": "python",
   "nbconvert_exporter": "python",
   "pygments_lexer": "ipython3",
   "version": "3.8.8"
  }
 },
 "nbformat": 4,
 "nbformat_minor": 4
}
